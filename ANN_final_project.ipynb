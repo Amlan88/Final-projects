{
  "nbformat": 4,
  "nbformat_minor": 0,
  "metadata": {
    "colab": {
      "provenance": [],
      "authorship_tag": "ABX9TyP40WHV3hgsAE8Q0sVOlQRl",
      "include_colab_link": true
    },
    "kernelspec": {
      "name": "python3",
      "display_name": "Python 3"
    },
    "language_info": {
      "name": "python"
    }
  },
  "cells": [
    {
      "cell_type": "markdown",
      "metadata": {
        "id": "view-in-github",
        "colab_type": "text"
      },
      "source": [
        "<a href=\"https://colab.research.google.com/github/Amlan88/Final-projects/blob/main/ANN_final_project.ipynb\" target=\"_parent\"><img src=\"https://colab.research.google.com/assets/colab-badge.svg\" alt=\"Open In Colab\"/></a>"
      ]
    },
    {
      "cell_type": "code",
      "execution_count": null,
      "metadata": {
        "id": "2OLn9NQMQNvJ"
      },
      "outputs": [],
      "source": [
        "import numpy as np\n",
        "import pandas as pd\n",
        "import seaborn as sns\n",
        "import matplotlib.pyplot as plt\n",
        "\n",
        "import warnings\n",
        "warnings.filterwarnings(\"ignore\")\n",
        "\n",
        "import tensorflow as tf\n",
        "from tensorflow.keras import Sequential # it is used to build ANN\n",
        "from tensorflow.keras.layers import Dense # it is used to add hidden layers\n",
        "from sklearn.metrics import classification_report # for evaluation"
      ]
    },
    {
      "cell_type": "code",
      "source": [
        "df = pd.read_csv(\"Churn_Modelling.csv\")\n",
        "df.head()"
      ],
      "metadata": {
        "colab": {
          "base_uri": "https://localhost:8080/",
          "height": 226
        },
        "id": "OWYqLTJRQrbQ",
        "outputId": "c366bb19-a33b-4a9a-d5a3-3da1ab703bcb"
      },
      "execution_count": null,
      "outputs": [
        {
          "output_type": "execute_result",
          "data": {
            "text/plain": [
              "   RowNumber  CustomerId   Surname  CreditScore Geography  Gender  Age  \\\n",
              "0          1    15634602  Hargrave          619    France  Female   42   \n",
              "1          2    15647311      Hill          608     Spain  Female   41   \n",
              "2          3    15619304      Onio          502    France  Female   42   \n",
              "3          4    15701354      Boni          699    France  Female   39   \n",
              "4          5    15737888  Mitchell          850     Spain  Female   43   \n",
              "\n",
              "   Tenure    Balance  NumOfProducts  HasCrCard  IsActiveMember  \\\n",
              "0       2       0.00              1          1               1   \n",
              "1       1   83807.86              1          0               1   \n",
              "2       8  159660.80              3          1               0   \n",
              "3       1       0.00              2          0               0   \n",
              "4       2  125510.82              1          1               1   \n",
              "\n",
              "   EstimatedSalary  Exited  \n",
              "0        101348.88       1  \n",
              "1        112542.58       0  \n",
              "2        113931.57       1  \n",
              "3         93826.63       0  \n",
              "4         79084.10       0  "
            ],
            "text/html": [
              "\n",
              "  <div id=\"df-24139b25-236d-4ccd-8484-ed3b994dc614\" class=\"colab-df-container\">\n",
              "    <div>\n",
              "<style scoped>\n",
              "    .dataframe tbody tr th:only-of-type {\n",
              "        vertical-align: middle;\n",
              "    }\n",
              "\n",
              "    .dataframe tbody tr th {\n",
              "        vertical-align: top;\n",
              "    }\n",
              "\n",
              "    .dataframe thead th {\n",
              "        text-align: right;\n",
              "    }\n",
              "</style>\n",
              "<table border=\"1\" class=\"dataframe\">\n",
              "  <thead>\n",
              "    <tr style=\"text-align: right;\">\n",
              "      <th></th>\n",
              "      <th>RowNumber</th>\n",
              "      <th>CustomerId</th>\n",
              "      <th>Surname</th>\n",
              "      <th>CreditScore</th>\n",
              "      <th>Geography</th>\n",
              "      <th>Gender</th>\n",
              "      <th>Age</th>\n",
              "      <th>Tenure</th>\n",
              "      <th>Balance</th>\n",
              "      <th>NumOfProducts</th>\n",
              "      <th>HasCrCard</th>\n",
              "      <th>IsActiveMember</th>\n",
              "      <th>EstimatedSalary</th>\n",
              "      <th>Exited</th>\n",
              "    </tr>\n",
              "  </thead>\n",
              "  <tbody>\n",
              "    <tr>\n",
              "      <th>0</th>\n",
              "      <td>1</td>\n",
              "      <td>15634602</td>\n",
              "      <td>Hargrave</td>\n",
              "      <td>619</td>\n",
              "      <td>France</td>\n",
              "      <td>Female</td>\n",
              "      <td>42</td>\n",
              "      <td>2</td>\n",
              "      <td>0.00</td>\n",
              "      <td>1</td>\n",
              "      <td>1</td>\n",
              "      <td>1</td>\n",
              "      <td>101348.88</td>\n",
              "      <td>1</td>\n",
              "    </tr>\n",
              "    <tr>\n",
              "      <th>1</th>\n",
              "      <td>2</td>\n",
              "      <td>15647311</td>\n",
              "      <td>Hill</td>\n",
              "      <td>608</td>\n",
              "      <td>Spain</td>\n",
              "      <td>Female</td>\n",
              "      <td>41</td>\n",
              "      <td>1</td>\n",
              "      <td>83807.86</td>\n",
              "      <td>1</td>\n",
              "      <td>0</td>\n",
              "      <td>1</td>\n",
              "      <td>112542.58</td>\n",
              "      <td>0</td>\n",
              "    </tr>\n",
              "    <tr>\n",
              "      <th>2</th>\n",
              "      <td>3</td>\n",
              "      <td>15619304</td>\n",
              "      <td>Onio</td>\n",
              "      <td>502</td>\n",
              "      <td>France</td>\n",
              "      <td>Female</td>\n",
              "      <td>42</td>\n",
              "      <td>8</td>\n",
              "      <td>159660.80</td>\n",
              "      <td>3</td>\n",
              "      <td>1</td>\n",
              "      <td>0</td>\n",
              "      <td>113931.57</td>\n",
              "      <td>1</td>\n",
              "    </tr>\n",
              "    <tr>\n",
              "      <th>3</th>\n",
              "      <td>4</td>\n",
              "      <td>15701354</td>\n",
              "      <td>Boni</td>\n",
              "      <td>699</td>\n",
              "      <td>France</td>\n",
              "      <td>Female</td>\n",
              "      <td>39</td>\n",
              "      <td>1</td>\n",
              "      <td>0.00</td>\n",
              "      <td>2</td>\n",
              "      <td>0</td>\n",
              "      <td>0</td>\n",
              "      <td>93826.63</td>\n",
              "      <td>0</td>\n",
              "    </tr>\n",
              "    <tr>\n",
              "      <th>4</th>\n",
              "      <td>5</td>\n",
              "      <td>15737888</td>\n",
              "      <td>Mitchell</td>\n",
              "      <td>850</td>\n",
              "      <td>Spain</td>\n",
              "      <td>Female</td>\n",
              "      <td>43</td>\n",
              "      <td>2</td>\n",
              "      <td>125510.82</td>\n",
              "      <td>1</td>\n",
              "      <td>1</td>\n",
              "      <td>1</td>\n",
              "      <td>79084.10</td>\n",
              "      <td>0</td>\n",
              "    </tr>\n",
              "  </tbody>\n",
              "</table>\n",
              "</div>\n",
              "    <div class=\"colab-df-buttons\">\n",
              "\n",
              "  <div class=\"colab-df-container\">\n",
              "    <button class=\"colab-df-convert\" onclick=\"convertToInteractive('df-24139b25-236d-4ccd-8484-ed3b994dc614')\"\n",
              "            title=\"Convert this dataframe to an interactive table.\"\n",
              "            style=\"display:none;\">\n",
              "\n",
              "  <svg xmlns=\"http://www.w3.org/2000/svg\" height=\"24px\" viewBox=\"0 -960 960 960\">\n",
              "    <path d=\"M120-120v-720h720v720H120Zm60-500h600v-160H180v160Zm220 220h160v-160H400v160Zm0 220h160v-160H400v160ZM180-400h160v-160H180v160Zm440 0h160v-160H620v160ZM180-180h160v-160H180v160Zm440 0h160v-160H620v160Z\"/>\n",
              "  </svg>\n",
              "    </button>\n",
              "\n",
              "  <style>\n",
              "    .colab-df-container {\n",
              "      display:flex;\n",
              "      gap: 12px;\n",
              "    }\n",
              "\n",
              "    .colab-df-convert {\n",
              "      background-color: #E8F0FE;\n",
              "      border: none;\n",
              "      border-radius: 50%;\n",
              "      cursor: pointer;\n",
              "      display: none;\n",
              "      fill: #1967D2;\n",
              "      height: 32px;\n",
              "      padding: 0 0 0 0;\n",
              "      width: 32px;\n",
              "    }\n",
              "\n",
              "    .colab-df-convert:hover {\n",
              "      background-color: #E2EBFA;\n",
              "      box-shadow: 0px 1px 2px rgba(60, 64, 67, 0.3), 0px 1px 3px 1px rgba(60, 64, 67, 0.15);\n",
              "      fill: #174EA6;\n",
              "    }\n",
              "\n",
              "    .colab-df-buttons div {\n",
              "      margin-bottom: 4px;\n",
              "    }\n",
              "\n",
              "    [theme=dark] .colab-df-convert {\n",
              "      background-color: #3B4455;\n",
              "      fill: #D2E3FC;\n",
              "    }\n",
              "\n",
              "    [theme=dark] .colab-df-convert:hover {\n",
              "      background-color: #434B5C;\n",
              "      box-shadow: 0px 1px 3px 1px rgba(0, 0, 0, 0.15);\n",
              "      filter: drop-shadow(0px 1px 2px rgba(0, 0, 0, 0.3));\n",
              "      fill: #FFFFFF;\n",
              "    }\n",
              "  </style>\n",
              "\n",
              "    <script>\n",
              "      const buttonEl =\n",
              "        document.querySelector('#df-24139b25-236d-4ccd-8484-ed3b994dc614 button.colab-df-convert');\n",
              "      buttonEl.style.display =\n",
              "        google.colab.kernel.accessAllowed ? 'block' : 'none';\n",
              "\n",
              "      async function convertToInteractive(key) {\n",
              "        const element = document.querySelector('#df-24139b25-236d-4ccd-8484-ed3b994dc614');\n",
              "        const dataTable =\n",
              "          await google.colab.kernel.invokeFunction('convertToInteractive',\n",
              "                                                    [key], {});\n",
              "        if (!dataTable) return;\n",
              "\n",
              "        const docLinkHtml = 'Like what you see? Visit the ' +\n",
              "          '<a target=\"_blank\" href=https://colab.research.google.com/notebooks/data_table.ipynb>data table notebook</a>'\n",
              "          + ' to learn more about interactive tables.';\n",
              "        element.innerHTML = '';\n",
              "        dataTable['output_type'] = 'display_data';\n",
              "        await google.colab.output.renderOutput(dataTable, element);\n",
              "        const docLink = document.createElement('div');\n",
              "        docLink.innerHTML = docLinkHtml;\n",
              "        element.appendChild(docLink);\n",
              "      }\n",
              "    </script>\n",
              "  </div>\n",
              "\n",
              "\n",
              "<div id=\"df-54f84ef6-29b3-41f8-8d6b-a25511be134a\">\n",
              "  <button class=\"colab-df-quickchart\" onclick=\"quickchart('df-54f84ef6-29b3-41f8-8d6b-a25511be134a')\"\n",
              "            title=\"Suggest charts\"\n",
              "            style=\"display:none;\">\n",
              "\n",
              "<svg xmlns=\"http://www.w3.org/2000/svg\" height=\"24px\"viewBox=\"0 0 24 24\"\n",
              "     width=\"24px\">\n",
              "    <g>\n",
              "        <path d=\"M19 3H5c-1.1 0-2 .9-2 2v14c0 1.1.9 2 2 2h14c1.1 0 2-.9 2-2V5c0-1.1-.9-2-2-2zM9 17H7v-7h2v7zm4 0h-2V7h2v10zm4 0h-2v-4h2v4z\"/>\n",
              "    </g>\n",
              "</svg>\n",
              "  </button>\n",
              "\n",
              "<style>\n",
              "  .colab-df-quickchart {\n",
              "      --bg-color: #E8F0FE;\n",
              "      --fill-color: #1967D2;\n",
              "      --hover-bg-color: #E2EBFA;\n",
              "      --hover-fill-color: #174EA6;\n",
              "      --disabled-fill-color: #AAA;\n",
              "      --disabled-bg-color: #DDD;\n",
              "  }\n",
              "\n",
              "  [theme=dark] .colab-df-quickchart {\n",
              "      --bg-color: #3B4455;\n",
              "      --fill-color: #D2E3FC;\n",
              "      --hover-bg-color: #434B5C;\n",
              "      --hover-fill-color: #FFFFFF;\n",
              "      --disabled-bg-color: #3B4455;\n",
              "      --disabled-fill-color: #666;\n",
              "  }\n",
              "\n",
              "  .colab-df-quickchart {\n",
              "    background-color: var(--bg-color);\n",
              "    border: none;\n",
              "    border-radius: 50%;\n",
              "    cursor: pointer;\n",
              "    display: none;\n",
              "    fill: var(--fill-color);\n",
              "    height: 32px;\n",
              "    padding: 0;\n",
              "    width: 32px;\n",
              "  }\n",
              "\n",
              "  .colab-df-quickchart:hover {\n",
              "    background-color: var(--hover-bg-color);\n",
              "    box-shadow: 0 1px 2px rgba(60, 64, 67, 0.3), 0 1px 3px 1px rgba(60, 64, 67, 0.15);\n",
              "    fill: var(--button-hover-fill-color);\n",
              "  }\n",
              "\n",
              "  .colab-df-quickchart-complete:disabled,\n",
              "  .colab-df-quickchart-complete:disabled:hover {\n",
              "    background-color: var(--disabled-bg-color);\n",
              "    fill: var(--disabled-fill-color);\n",
              "    box-shadow: none;\n",
              "  }\n",
              "\n",
              "  .colab-df-spinner {\n",
              "    border: 2px solid var(--fill-color);\n",
              "    border-color: transparent;\n",
              "    border-bottom-color: var(--fill-color);\n",
              "    animation:\n",
              "      spin 1s steps(1) infinite;\n",
              "  }\n",
              "\n",
              "  @keyframes spin {\n",
              "    0% {\n",
              "      border-color: transparent;\n",
              "      border-bottom-color: var(--fill-color);\n",
              "      border-left-color: var(--fill-color);\n",
              "    }\n",
              "    20% {\n",
              "      border-color: transparent;\n",
              "      border-left-color: var(--fill-color);\n",
              "      border-top-color: var(--fill-color);\n",
              "    }\n",
              "    30% {\n",
              "      border-color: transparent;\n",
              "      border-left-color: var(--fill-color);\n",
              "      border-top-color: var(--fill-color);\n",
              "      border-right-color: var(--fill-color);\n",
              "    }\n",
              "    40% {\n",
              "      border-color: transparent;\n",
              "      border-right-color: var(--fill-color);\n",
              "      border-top-color: var(--fill-color);\n",
              "    }\n",
              "    60% {\n",
              "      border-color: transparent;\n",
              "      border-right-color: var(--fill-color);\n",
              "    }\n",
              "    80% {\n",
              "      border-color: transparent;\n",
              "      border-right-color: var(--fill-color);\n",
              "      border-bottom-color: var(--fill-color);\n",
              "    }\n",
              "    90% {\n",
              "      border-color: transparent;\n",
              "      border-bottom-color: var(--fill-color);\n",
              "    }\n",
              "  }\n",
              "</style>\n",
              "\n",
              "  <script>\n",
              "    async function quickchart(key) {\n",
              "      const quickchartButtonEl =\n",
              "        document.querySelector('#' + key + ' button');\n",
              "      quickchartButtonEl.disabled = true;  // To prevent multiple clicks.\n",
              "      quickchartButtonEl.classList.add('colab-df-spinner');\n",
              "      try {\n",
              "        const charts = await google.colab.kernel.invokeFunction(\n",
              "            'suggestCharts', [key], {});\n",
              "      } catch (error) {\n",
              "        console.error('Error during call to suggestCharts:', error);\n",
              "      }\n",
              "      quickchartButtonEl.classList.remove('colab-df-spinner');\n",
              "      quickchartButtonEl.classList.add('colab-df-quickchart-complete');\n",
              "    }\n",
              "    (() => {\n",
              "      let quickchartButtonEl =\n",
              "        document.querySelector('#df-54f84ef6-29b3-41f8-8d6b-a25511be134a button');\n",
              "      quickchartButtonEl.style.display =\n",
              "        google.colab.kernel.accessAllowed ? 'block' : 'none';\n",
              "    })();\n",
              "  </script>\n",
              "</div>\n",
              "\n",
              "    </div>\n",
              "  </div>\n"
            ]
          },
          "metadata": {},
          "execution_count": 3
        }
      ]
    },
    {
      "cell_type": "code",
      "source": [
        "df.info()"
      ],
      "metadata": {
        "colab": {
          "base_uri": "https://localhost:8080/"
        },
        "id": "1g5PO3WnQ78b",
        "outputId": "b9a09b04-39ca-4ff2-a317-cacdbee87273"
      },
      "execution_count": null,
      "outputs": [
        {
          "output_type": "stream",
          "name": "stdout",
          "text": [
            "<class 'pandas.core.frame.DataFrame'>\n",
            "RangeIndex: 10000 entries, 0 to 9999\n",
            "Data columns (total 14 columns):\n",
            " #   Column           Non-Null Count  Dtype  \n",
            "---  ------           --------------  -----  \n",
            " 0   RowNumber        10000 non-null  int64  \n",
            " 1   CustomerId       10000 non-null  int64  \n",
            " 2   Surname          10000 non-null  object \n",
            " 3   CreditScore      10000 non-null  int64  \n",
            " 4   Geography        10000 non-null  object \n",
            " 5   Gender           10000 non-null  object \n",
            " 6   Age              10000 non-null  int64  \n",
            " 7   Tenure           10000 non-null  int64  \n",
            " 8   Balance          10000 non-null  float64\n",
            " 9   NumOfProducts    10000 non-null  int64  \n",
            " 10  HasCrCard        10000 non-null  int64  \n",
            " 11  IsActiveMember   10000 non-null  int64  \n",
            " 12  EstimatedSalary  10000 non-null  float64\n",
            " 13  Exited           10000 non-null  int64  \n",
            "dtypes: float64(2), int64(9), object(3)\n",
            "memory usage: 1.1+ MB\n"
          ]
        }
      ]
    },
    {
      "cell_type": "code",
      "source": [
        "x = df.iloc[:, 3:-1].values\n",
        "x"
      ],
      "metadata": {
        "colab": {
          "base_uri": "https://localhost:8080/"
        },
        "id": "YZ9QP4ocQ_jr",
        "outputId": "77d4fc2f-0333-4859-ef5c-34b621d76a0e"
      },
      "execution_count": null,
      "outputs": [
        {
          "output_type": "execute_result",
          "data": {
            "text/plain": [
              "array([[619, 'France', 'Female', ..., 1, 1, 101348.88],\n",
              "       [608, 'Spain', 'Female', ..., 0, 1, 112542.58],\n",
              "       [502, 'France', 'Female', ..., 1, 0, 113931.57],\n",
              "       ...,\n",
              "       [709, 'France', 'Female', ..., 0, 1, 42085.58],\n",
              "       [772, 'Germany', 'Male', ..., 1, 0, 92888.52],\n",
              "       [792, 'France', 'Female', ..., 1, 0, 38190.78]], dtype=object)"
            ]
          },
          "metadata": {},
          "execution_count": 5
        }
      ]
    },
    {
      "cell_type": "code",
      "source": [
        "y = df.iloc[:, -1].values\n",
        "y"
      ],
      "metadata": {
        "colab": {
          "base_uri": "https://localhost:8080/"
        },
        "id": "dr6CiyAlRD2M",
        "outputId": "daed404a-9fae-4ce7-b348-ad68901d17b1"
      },
      "execution_count": null,
      "outputs": [
        {
          "output_type": "execute_result",
          "data": {
            "text/plain": [
              "array([1, 0, 1, ..., 1, 1, 0])"
            ]
          },
          "metadata": {},
          "execution_count": 6
        }
      ]
    },
    {
      "cell_type": "code",
      "source": [
        "from sklearn.preprocessing import LabelEncoder\n",
        "le = LabelEncoder()\n",
        "x[:,1] = le.fit_transform(x[:,1])\n",
        "\n",
        "le_1 = LabelEncoder()\n",
        "x[:,2] = le_1.fit_transform(x[:,2])"
      ],
      "metadata": {
        "id": "9ZPfsdRaRHoD"
      },
      "execution_count": null,
      "outputs": []
    },
    {
      "cell_type": "code",
      "source": [
        "x"
      ],
      "metadata": {
        "colab": {
          "base_uri": "https://localhost:8080/"
        },
        "id": "l1PNgtQdRL8X",
        "outputId": "5494000a-7bd1-45f1-95b8-e5289987ecdf"
      },
      "execution_count": null,
      "outputs": [
        {
          "output_type": "execute_result",
          "data": {
            "text/plain": [
              "array([[619, 0, 0, ..., 1, 1, 101348.88],\n",
              "       [608, 2, 0, ..., 0, 1, 112542.58],\n",
              "       [502, 0, 0, ..., 1, 0, 113931.57],\n",
              "       ...,\n",
              "       [709, 0, 0, ..., 0, 1, 42085.58],\n",
              "       [772, 1, 1, ..., 1, 0, 92888.52],\n",
              "       [792, 0, 0, ..., 1, 0, 38190.78]], dtype=object)"
            ]
          },
          "metadata": {},
          "execution_count": 8
        }
      ]
    },
    {
      "cell_type": "code",
      "source": [
        "le.classes_"
      ],
      "metadata": {
        "colab": {
          "base_uri": "https://localhost:8080/"
        },
        "id": "tj0w3UsFRPRz",
        "outputId": "e060cb31-a289-4138-b8f4-b1c6f10f15a1"
      },
      "execution_count": null,
      "outputs": [
        {
          "output_type": "execute_result",
          "data": {
            "text/plain": [
              "array(['France', 'Germany', 'Spain'], dtype=object)"
            ]
          },
          "metadata": {},
          "execution_count": 9
        }
      ]
    },
    {
      "cell_type": "code",
      "source": [
        "le_1.classes_"
      ],
      "metadata": {
        "colab": {
          "base_uri": "https://localhost:8080/"
        },
        "id": "Jj9m2VC1RXUr",
        "outputId": "b149e401-9079-4719-8035-013e9eb65012"
      },
      "execution_count": null,
      "outputs": [
        {
          "output_type": "execute_result",
          "data": {
            "text/plain": [
              "array(['Female', 'Male'], dtype=object)"
            ]
          },
          "metadata": {},
          "execution_count": 10
        }
      ]
    },
    {
      "cell_type": "code",
      "source": [
        "from scipy.sparse.construct import rand\n",
        "from sklearn.model_selection import train_test_split\n",
        "xtrain, xtest, ytrain, ytest = train_test_split(x, y, test_size=0.3, random_state=123)"
      ],
      "metadata": {
        "id": "b5ymH66_RcjO"
      },
      "execution_count": null,
      "outputs": []
    },
    {
      "cell_type": "code",
      "source": [
        "xtrain"
      ],
      "metadata": {
        "colab": {
          "base_uri": "https://localhost:8080/"
        },
        "id": "vnZsmtbWRhaF",
        "outputId": "b0bc6b6d-726c-4c14-f29f-6361f8f905ce"
      },
      "execution_count": null,
      "outputs": [
        {
          "output_type": "execute_result",
          "data": {
            "text/plain": [
              "array([[648, 2, 1, ..., 0, 1, 181534.04],\n",
              "       [693, 2, 0, ..., 1, 1, 135502.77],\n",
              "       [586, 2, 0, ..., 1, 1, 168261.4],\n",
              "       ...,\n",
              "       [685, 0, 1, ..., 1, 0, 38691.34],\n",
              "       [643, 0, 1, ..., 1, 1, 165614.4],\n",
              "       [686, 0, 1, ..., 1, 0, 8816.37]], dtype=object)"
            ]
          },
          "metadata": {},
          "execution_count": 12
        }
      ]
    },
    {
      "cell_type": "code",
      "source": [
        "from sklearn.preprocessing import StandardScaler\n",
        "sc = StandardScaler()\n",
        "xtrain = sc.fit_transform(xtrain)\n",
        "\n",
        "xtest = sc.transform(xtest)"
      ],
      "metadata": {
        "id": "pzpvsf1cRlLa"
      },
      "execution_count": null,
      "outputs": []
    },
    {
      "cell_type": "code",
      "source": [
        "# STEP 1: Initiate the model\n",
        "ann = Sequential()\n",
        "\n",
        "# STEP 2: add layers into the model\n",
        "ann.add(Dense(units=6, activation=\"relu\")) # Created one hidden layer\n",
        "ann.add(Dense(units=1, activation=\"sigmoid\"))\n",
        "\n",
        "# STEP 3: establish connection between the layers\n",
        "ann.compile(optimizer=\"adam\", loss=\"binary_crossentropy\", metrics=[\"accuracy\"])\n",
        "\n",
        "# STEP 4: train the model\n",
        "ann.fit(xtrain, ytrain, batch_size=30, epochs=100)\n",
        "\n",
        "# STEP 5: make prediction\n",
        "ypred = ann.predict(xtest)"
      ],
      "metadata": {
        "colab": {
          "base_uri": "https://localhost:8080/"
        },
        "id": "nZfR79NRRpOa",
        "outputId": "44f9cf48-c1e8-45f4-ce83-8f169f03b389"
      },
      "execution_count": null,
      "outputs": [
        {
          "output_type": "stream",
          "name": "stdout",
          "text": [
            "Epoch 1/100\n",
            "234/234 [==============================] - 2s 5ms/step - loss: 0.5982 - accuracy: 0.6797\n",
            "Epoch 2/100\n",
            "234/234 [==============================] - 1s 4ms/step - loss: 0.4935 - accuracy: 0.7887\n",
            "Epoch 3/100\n",
            "234/234 [==============================] - 1s 3ms/step - loss: 0.4622 - accuracy: 0.8023\n",
            "Epoch 4/100\n",
            "234/234 [==============================] - 1s 5ms/step - loss: 0.4469 - accuracy: 0.8059\n",
            "Epoch 5/100\n",
            "234/234 [==============================] - 1s 4ms/step - loss: 0.4368 - accuracy: 0.8127\n",
            "Epoch 6/100\n",
            "234/234 [==============================] - 1s 5ms/step - loss: 0.4284 - accuracy: 0.8186\n",
            "Epoch 7/100\n",
            "234/234 [==============================] - 1s 4ms/step - loss: 0.4203 - accuracy: 0.8253\n",
            "Epoch 8/100\n",
            "234/234 [==============================] - 1s 4ms/step - loss: 0.4121 - accuracy: 0.8321\n",
            "Epoch 9/100\n",
            "234/234 [==============================] - 1s 5ms/step - loss: 0.4049 - accuracy: 0.8354\n",
            "Epoch 10/100\n",
            "234/234 [==============================] - 1s 3ms/step - loss: 0.3984 - accuracy: 0.8379\n",
            "Epoch 11/100\n",
            "234/234 [==============================] - 1s 2ms/step - loss: 0.3926 - accuracy: 0.8409\n",
            "Epoch 12/100\n",
            "234/234 [==============================] - 1s 2ms/step - loss: 0.3875 - accuracy: 0.8431\n",
            "Epoch 13/100\n",
            "234/234 [==============================] - 1s 3ms/step - loss: 0.3834 - accuracy: 0.8451\n",
            "Epoch 14/100\n",
            "234/234 [==============================] - 1s 3ms/step - loss: 0.3797 - accuracy: 0.8464\n",
            "Epoch 15/100\n",
            "234/234 [==============================] - 0s 2ms/step - loss: 0.3766 - accuracy: 0.8477\n",
            "Epoch 16/100\n",
            "234/234 [==============================] - 0s 2ms/step - loss: 0.3741 - accuracy: 0.8501\n",
            "Epoch 17/100\n",
            "234/234 [==============================] - 0s 2ms/step - loss: 0.3720 - accuracy: 0.8511\n",
            "Epoch 18/100\n",
            "234/234 [==============================] - 0s 2ms/step - loss: 0.3703 - accuracy: 0.8509\n",
            "Epoch 19/100\n",
            "234/234 [==============================] - 0s 2ms/step - loss: 0.3688 - accuracy: 0.8513\n",
            "Epoch 20/100\n",
            "234/234 [==============================] - 0s 2ms/step - loss: 0.3675 - accuracy: 0.8519\n",
            "Epoch 21/100\n",
            "234/234 [==============================] - 0s 2ms/step - loss: 0.3665 - accuracy: 0.8526\n",
            "Epoch 22/100\n",
            "234/234 [==============================] - 0s 2ms/step - loss: 0.3653 - accuracy: 0.8533\n",
            "Epoch 23/100\n",
            "234/234 [==============================] - 0s 2ms/step - loss: 0.3646 - accuracy: 0.8519\n",
            "Epoch 24/100\n",
            "234/234 [==============================] - 0s 2ms/step - loss: 0.3636 - accuracy: 0.8526\n",
            "Epoch 25/100\n",
            "234/234 [==============================] - 0s 2ms/step - loss: 0.3630 - accuracy: 0.8530\n",
            "Epoch 26/100\n",
            "234/234 [==============================] - 0s 2ms/step - loss: 0.3621 - accuracy: 0.8527\n",
            "Epoch 27/100\n",
            "234/234 [==============================] - 0s 2ms/step - loss: 0.3616 - accuracy: 0.8531\n",
            "Epoch 28/100\n",
            "234/234 [==============================] - 0s 2ms/step - loss: 0.3608 - accuracy: 0.8536\n",
            "Epoch 29/100\n",
            "234/234 [==============================] - 0s 2ms/step - loss: 0.3602 - accuracy: 0.8527\n",
            "Epoch 30/100\n",
            "234/234 [==============================] - 0s 2ms/step - loss: 0.3597 - accuracy: 0.8529\n",
            "Epoch 31/100\n",
            "234/234 [==============================] - 0s 2ms/step - loss: 0.3590 - accuracy: 0.8534\n",
            "Epoch 32/100\n",
            "234/234 [==============================] - 0s 2ms/step - loss: 0.3586 - accuracy: 0.8539\n",
            "Epoch 33/100\n",
            "234/234 [==============================] - 0s 2ms/step - loss: 0.3579 - accuracy: 0.8547\n",
            "Epoch 34/100\n",
            "234/234 [==============================] - 0s 2ms/step - loss: 0.3575 - accuracy: 0.8529\n",
            "Epoch 35/100\n",
            "234/234 [==============================] - 0s 2ms/step - loss: 0.3569 - accuracy: 0.8534\n",
            "Epoch 36/100\n",
            "234/234 [==============================] - 0s 2ms/step - loss: 0.3568 - accuracy: 0.8530\n",
            "Epoch 37/100\n",
            "234/234 [==============================] - 0s 2ms/step - loss: 0.3562 - accuracy: 0.8543\n",
            "Epoch 38/100\n",
            "234/234 [==============================] - 0s 2ms/step - loss: 0.3557 - accuracy: 0.8540\n",
            "Epoch 39/100\n",
            "234/234 [==============================] - 1s 3ms/step - loss: 0.3553 - accuracy: 0.8537\n",
            "Epoch 40/100\n",
            "234/234 [==============================] - 1s 3ms/step - loss: 0.3550 - accuracy: 0.8526\n",
            "Epoch 41/100\n",
            "234/234 [==============================] - 1s 2ms/step - loss: 0.3546 - accuracy: 0.8534\n",
            "Epoch 42/100\n",
            "234/234 [==============================] - 1s 2ms/step - loss: 0.3544 - accuracy: 0.8541\n",
            "Epoch 43/100\n",
            "234/234 [==============================] - 1s 2ms/step - loss: 0.3539 - accuracy: 0.8540\n",
            "Epoch 44/100\n",
            "234/234 [==============================] - 1s 3ms/step - loss: 0.3537 - accuracy: 0.8534\n",
            "Epoch 45/100\n",
            "234/234 [==============================] - 1s 2ms/step - loss: 0.3533 - accuracy: 0.8539\n",
            "Epoch 46/100\n",
            "234/234 [==============================] - 0s 2ms/step - loss: 0.3531 - accuracy: 0.8546\n",
            "Epoch 47/100\n",
            "234/234 [==============================] - 0s 2ms/step - loss: 0.3525 - accuracy: 0.8531\n",
            "Epoch 48/100\n",
            "234/234 [==============================] - 0s 2ms/step - loss: 0.3523 - accuracy: 0.8541\n",
            "Epoch 49/100\n",
            "234/234 [==============================] - 0s 2ms/step - loss: 0.3520 - accuracy: 0.8544\n",
            "Epoch 50/100\n",
            "234/234 [==============================] - 0s 2ms/step - loss: 0.3517 - accuracy: 0.8547\n",
            "Epoch 51/100\n",
            "234/234 [==============================] - 0s 2ms/step - loss: 0.3514 - accuracy: 0.8540\n",
            "Epoch 52/100\n",
            "234/234 [==============================] - 0s 2ms/step - loss: 0.3512 - accuracy: 0.8536\n",
            "Epoch 53/100\n",
            "234/234 [==============================] - 0s 2ms/step - loss: 0.3508 - accuracy: 0.8540\n",
            "Epoch 54/100\n",
            "234/234 [==============================] - 0s 2ms/step - loss: 0.3507 - accuracy: 0.8553\n",
            "Epoch 55/100\n",
            "234/234 [==============================] - 0s 2ms/step - loss: 0.3505 - accuracy: 0.8523\n",
            "Epoch 56/100\n",
            "234/234 [==============================] - 0s 2ms/step - loss: 0.3504 - accuracy: 0.8539\n",
            "Epoch 57/100\n",
            "234/234 [==============================] - 0s 2ms/step - loss: 0.3503 - accuracy: 0.8553\n",
            "Epoch 58/100\n",
            "234/234 [==============================] - 0s 2ms/step - loss: 0.3501 - accuracy: 0.8553\n",
            "Epoch 59/100\n",
            "234/234 [==============================] - 0s 2ms/step - loss: 0.3500 - accuracy: 0.8551\n",
            "Epoch 60/100\n",
            "234/234 [==============================] - 0s 2ms/step - loss: 0.3498 - accuracy: 0.8553\n",
            "Epoch 61/100\n",
            "234/234 [==============================] - 0s 2ms/step - loss: 0.3498 - accuracy: 0.8544\n",
            "Epoch 62/100\n",
            "234/234 [==============================] - 0s 2ms/step - loss: 0.3496 - accuracy: 0.8550\n",
            "Epoch 63/100\n",
            "234/234 [==============================] - 0s 2ms/step - loss: 0.3493 - accuracy: 0.8551\n",
            "Epoch 64/100\n",
            "234/234 [==============================] - 0s 2ms/step - loss: 0.3494 - accuracy: 0.8550\n",
            "Epoch 65/100\n",
            "234/234 [==============================] - 0s 2ms/step - loss: 0.3493 - accuracy: 0.8549\n",
            "Epoch 66/100\n",
            "234/234 [==============================] - 0s 2ms/step - loss: 0.3491 - accuracy: 0.8551\n",
            "Epoch 67/100\n",
            "234/234 [==============================] - 0s 2ms/step - loss: 0.3491 - accuracy: 0.8553\n",
            "Epoch 68/100\n",
            "234/234 [==============================] - 0s 2ms/step - loss: 0.3489 - accuracy: 0.8563\n",
            "Epoch 69/100\n",
            "234/234 [==============================] - 1s 2ms/step - loss: 0.3490 - accuracy: 0.8559\n",
            "Epoch 70/100\n",
            "234/234 [==============================] - 1s 2ms/step - loss: 0.3489 - accuracy: 0.8556\n",
            "Epoch 71/100\n",
            "234/234 [==============================] - 1s 3ms/step - loss: 0.3487 - accuracy: 0.8567\n",
            "Epoch 72/100\n",
            "234/234 [==============================] - 1s 3ms/step - loss: 0.3486 - accuracy: 0.8549\n",
            "Epoch 73/100\n",
            "234/234 [==============================] - 1s 2ms/step - loss: 0.3487 - accuracy: 0.8571\n",
            "Epoch 74/100\n",
            "234/234 [==============================] - 1s 3ms/step - loss: 0.3486 - accuracy: 0.8564\n",
            "Epoch 75/100\n",
            "234/234 [==============================] - 0s 2ms/step - loss: 0.3483 - accuracy: 0.8577\n",
            "Epoch 76/100\n",
            "234/234 [==============================] - 0s 2ms/step - loss: 0.3482 - accuracy: 0.8571\n",
            "Epoch 77/100\n",
            "234/234 [==============================] - 0s 2ms/step - loss: 0.3484 - accuracy: 0.8560\n",
            "Epoch 78/100\n",
            "234/234 [==============================] - 0s 2ms/step - loss: 0.3482 - accuracy: 0.8563\n",
            "Epoch 79/100\n",
            "234/234 [==============================] - 0s 2ms/step - loss: 0.3481 - accuracy: 0.8566\n",
            "Epoch 80/100\n",
            "234/234 [==============================] - 0s 2ms/step - loss: 0.3480 - accuracy: 0.8557\n",
            "Epoch 81/100\n",
            "234/234 [==============================] - 0s 2ms/step - loss: 0.3480 - accuracy: 0.8571\n",
            "Epoch 82/100\n",
            "234/234 [==============================] - 0s 2ms/step - loss: 0.3478 - accuracy: 0.8561\n",
            "Epoch 83/100\n",
            "234/234 [==============================] - 0s 2ms/step - loss: 0.3477 - accuracy: 0.8559\n",
            "Epoch 84/100\n",
            "234/234 [==============================] - 0s 2ms/step - loss: 0.3476 - accuracy: 0.8561\n",
            "Epoch 85/100\n",
            "234/234 [==============================] - 0s 2ms/step - loss: 0.3478 - accuracy: 0.8560\n",
            "Epoch 86/100\n",
            "234/234 [==============================] - 0s 2ms/step - loss: 0.3476 - accuracy: 0.8566\n",
            "Epoch 87/100\n",
            "234/234 [==============================] - 0s 2ms/step - loss: 0.3476 - accuracy: 0.8580\n",
            "Epoch 88/100\n",
            "234/234 [==============================] - 0s 2ms/step - loss: 0.3476 - accuracy: 0.8570\n",
            "Epoch 89/100\n",
            "234/234 [==============================] - 0s 2ms/step - loss: 0.3474 - accuracy: 0.8576\n",
            "Epoch 90/100\n",
            "234/234 [==============================] - 0s 2ms/step - loss: 0.3476 - accuracy: 0.8561\n",
            "Epoch 91/100\n",
            "234/234 [==============================] - 1s 3ms/step - loss: 0.3474 - accuracy: 0.8563\n",
            "Epoch 92/100\n",
            "234/234 [==============================] - 0s 2ms/step - loss: 0.3471 - accuracy: 0.8560\n",
            "Epoch 93/100\n",
            "234/234 [==============================] - 0s 2ms/step - loss: 0.3473 - accuracy: 0.8579\n",
            "Epoch 94/100\n",
            "234/234 [==============================] - 0s 2ms/step - loss: 0.3471 - accuracy: 0.8571\n",
            "Epoch 95/100\n",
            "234/234 [==============================] - 0s 2ms/step - loss: 0.3472 - accuracy: 0.8569\n",
            "Epoch 96/100\n",
            "234/234 [==============================] - 0s 2ms/step - loss: 0.3473 - accuracy: 0.8579\n",
            "Epoch 97/100\n",
            "234/234 [==============================] - 0s 2ms/step - loss: 0.3472 - accuracy: 0.8579\n",
            "Epoch 98/100\n",
            "234/234 [==============================] - 1s 2ms/step - loss: 0.3471 - accuracy: 0.8576\n",
            "Epoch 99/100\n",
            "234/234 [==============================] - 1s 3ms/step - loss: 0.3470 - accuracy: 0.8573\n",
            "Epoch 100/100\n",
            "234/234 [==============================] - 1s 2ms/step - loss: 0.3471 - accuracy: 0.8574\n",
            "94/94 [==============================] - 0s 1ms/step\n"
          ]
        }
      ]
    },
    {
      "cell_type": "code",
      "source": [
        "# STEP 6: Set the threshold\n",
        "ypred = np.where(ypred<0.5,0,1)"
      ],
      "metadata": {
        "id": "76zAqg97SCB7"
      },
      "execution_count": null,
      "outputs": []
    },
    {
      "cell_type": "code",
      "source": [
        "ypred"
      ],
      "metadata": {
        "colab": {
          "base_uri": "https://localhost:8080/"
        },
        "id": "oGWmbrv7SHi1",
        "outputId": "0dbb9b72-4ae6-43c2-e357-96953ed6297b"
      },
      "execution_count": null,
      "outputs": [
        {
          "output_type": "execute_result",
          "data": {
            "text/plain": [
              "array([[0],\n",
              "       [0],\n",
              "       [0],\n",
              "       ...,\n",
              "       [0],\n",
              "       [0],\n",
              "       [0]])"
            ]
          },
          "metadata": {},
          "execution_count": 16
        }
      ]
    },
    {
      "cell_type": "code",
      "source": [
        "print(classification_report(ytest, ypred))"
      ],
      "metadata": {
        "colab": {
          "base_uri": "https://localhost:8080/"
        },
        "id": "e8fVVn8GSK-h",
        "outputId": "e3df0eab-6b02-401e-cea1-7e65544f7bf8"
      },
      "execution_count": null,
      "outputs": [
        {
          "output_type": "stream",
          "name": "stdout",
          "text": [
            "              precision    recall  f1-score   support\n",
            "\n",
            "           0       0.88      0.97      0.92      2395\n",
            "           1       0.80      0.47      0.59       605\n",
            "\n",
            "    accuracy                           0.87      3000\n",
            "   macro avg       0.84      0.72      0.76      3000\n",
            "weighted avg       0.86      0.87      0.86      3000\n",
            "\n"
          ]
        }
      ]
    },
    {
      "cell_type": "code",
      "source": [
        "df[\"Exited\"].value_counts()"
      ],
      "metadata": {
        "colab": {
          "base_uri": "https://localhost:8080/"
        },
        "id": "SZcQ9lcbSOI6",
        "outputId": "f226feaf-edd0-44f0-c3bc-e1bb636a8de3"
      },
      "execution_count": null,
      "outputs": [
        {
          "output_type": "execute_result",
          "data": {
            "text/plain": [
              "0    7963\n",
              "1    2037\n",
              "Name: Exited, dtype: int64"
            ]
          },
          "metadata": {},
          "execution_count": 18
        }
      ]
    },
    {
      "cell_type": "code",
      "source": [
        "#Checking the accuracy with Logistic regression\n",
        "\n",
        "from sklearn.linear_model import LogisticRegression\n",
        "lr = LogisticRegression()\n",
        "lr.fit(xtrain, ytrain)\n",
        "ypred_lr = lr.predict(xtest)"
      ],
      "metadata": {
        "id": "dOkY3Av7SSIs"
      },
      "execution_count": null,
      "outputs": []
    },
    {
      "cell_type": "code",
      "source": [
        "print(classification_report(ytest, ypred_lr))"
      ],
      "metadata": {
        "colab": {
          "base_uri": "https://localhost:8080/"
        },
        "id": "W3AHVCCVSYb7",
        "outputId": "392be1b3-4e7d-4be6-abb0-3cf3b0ffd1be"
      },
      "execution_count": null,
      "outputs": [
        {
          "output_type": "stream",
          "name": "stdout",
          "text": [
            "              precision    recall  f1-score   support\n",
            "\n",
            "           0       0.82      0.97      0.89      2395\n",
            "           1       0.61      0.16      0.25       605\n",
            "\n",
            "    accuracy                           0.81      3000\n",
            "   macro avg       0.72      0.57      0.57      3000\n",
            "weighted avg       0.78      0.81      0.76      3000\n",
            "\n"
          ]
        }
      ]
    }
  ]
}